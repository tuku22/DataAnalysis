# Tehtävä 1 (1/2) Titanic-data

import pandas as pd
import matplotlib.pyplot as plt
import seaborn as sns

# Grafiikan tyylimääritys
plt.style.use('seaborn-whitegrid')

## Frekvenssitaulukon muotoilu
format = {"f":"{:.0f}", "%":"{:.1f}"}

# Datan tuominen ja avaaminen
df = pd.read_excel('https://taanila.fi/titanic.xlsx')
df.info()

# Datan tarkastelu
df

# Frekvenssijaukauma survived-muuttujalle

df1 = pd.crosstab(df['survived'], "f")
df1.columns.name = ""

## Laitetaan 0 ja 1 tilalle se, mitä ne tarkoitti (kuoli/selviytyi)
df1.index = ['Ei selviytynyt', 'Selviytyi']

## Prosentit
n1 = df1['f'].sum()
df1["%"] = df1["f"]/n1*100

# Formatoidaan prosentit
df1.style.format(format)

# Selvitetään frekvenssijakauma hyttiluokista

df2 = pd.crosstab(df['pclass'], "f")
df2.columns.name = ""

## Laitetaan hyttiluokat
df2.index = ['1', '2', "3"]

## Prosentit
n1 = df2['f'].sum()
df2["%"] = df2["f"]/n1*100
df2.style.format(format)

# Frekvenssijaukauma sukupuolelle

df3 = pd.crosstab(df['sex'], "f")
df3.columns.name = ""



## Prosentit
n1 = df1['f'].sum()
df3["%"] = df3["f"]/n1*100
df3.style.format(format)

